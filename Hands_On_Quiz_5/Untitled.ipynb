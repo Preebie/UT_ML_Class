{
 "cells": [
  {
   "cell_type": "code",
   "execution_count": 50,
   "id": "df1d0496",
   "metadata": {},
   "outputs": [
    {
     "name": "stdout",
     "output_type": "stream",
     "text": [
      "Recall on training set :  0.9791666666666666\n",
      "Recall on test set :  0.803030303030303\n",
      "DecisionTreeClassifier(criterion='entropy', max_depth=10, random_state=1,\n",
      "                       splitter='random')\n",
      "Number of nodes in the last tree is: 1 with ccp_alpha: 0.16718273972032832\n"
     ]
    },
    {
     "data": {
      "image/png": "[encoded data removed]",
      "text/plain": [
       "<Figure size 1080x360 with 1 Axes>"
      ]
     },
     "metadata": {
      "needs_background": "light"
     },
     "output_type": "display_data"
    }
   ],
   "source": [
    "import pandas as pd\n",
    "import numpy as np\n",
    "from sklearn import metrics\n",
    "import matplotlib.pyplot as plt\n",
    "%matplotlib inline \n",
    "import seaborn as sns\n",
    "from sklearn.model_selection import train_test_split\n",
    "from sklearn.tree import DecisionTreeClassifier\n",
    "from sklearn import tree\n",
    "from sklearn.model_selection import GridSearchCV\n",
    "\n",
    "url = \"backpain.csv\"\n",
    "BackData = pd.read_csv(url)\n",
    "\n",
    "BackData.describe()\n",
    "replacer = {\"Status\": {\"Abnormal\": 1, \"Normal\": 0}}\n",
    "BackData = BackData.replace(replacer)\n",
    "X = BackData.drop('Status',axis=1)     # Predictor feature columns (8 X m)\n",
    "Y = BackData.pop('Status')   # Predicted class (1=True, 0=False) (1 X m)\n",
    "x_train, x_test, y_train, y_test = train_test_split(X, Y, test_size=0.3, random_state=1)\n",
    "dTree = DecisionTreeClassifier(criterion='entropy', max_depth=10, random_state=1, splitter='random')\n",
    "dTree.fit(x_train, y_train)\n",
    "pred_train = dTree.predict(x_train)\n",
    "pred_test = dTree.predict(x_test)\n",
    "print(\"Recall on training set : \",metrics.recall_score(y_train,pred_train))\n",
    "print(\"Recall on test set : \",metrics.recall_score(y_test,pred_test))\n",
    "\n",
    "parameters = {\"max_depth\": [5,10,15, None],\n",
    "\"criterion\": ['gini','entropy'],\n",
    "\"splitter\": ['best','random']}\n",
    "acc_scorer = metrics.make_scorer(metrics.recall_score)\n",
    "grid_obj = GridSearchCV(dTree, parameters, scoring=acc_scorer,cv=3)\n",
    "grid_obj = grid_obj.fit(x_train, y_train)\n",
    "estimator = grid_obj.best_estimator_\n",
    "print(estimator.fit(x_train, y_train))\n",
    "clf = DecisionTreeClassifier(random_state=1)\n",
    "path = clf.cost_complexity_pruning_path(x_train, y_train)\n",
    "ccp_alphas, impurities = path.ccp_alphas, path.impurities\n",
    "pd.DataFrame(path)\n",
    "\n",
    "\n",
    "clfs = []\n",
    "for ccp_alpha in ccp_alphas:\n",
    "    clf = DecisionTreeClassifier(random_state=1, ccp_alpha=ccp_alpha)\n",
    "    clf.fit(x_train, y_train)\n",
    "    clfs.append(clf)\n",
    "print(\"Number of nodes in the last tree is: {} with ccp_alpha: {}\".format(\n",
    "      clfs[-1].tree_.node_count, ccp_alphas[-1]))\n",
    "recall_train=[]\n",
    "for clf in clfs:\n",
    "    pred_train3=clf.predict(x_train)\n",
    "    values_train=metrics.recall_score(y_train,pred_train3)\n",
    "    recall_train.append(values_train)\n",
    "recall_test=[]\n",
    "for clf in clfs:\n",
    "    pred_test3=clf.predict(x_test)\n",
    "    values_test=metrics.recall_score(y_test,pred_test3)\n",
    "    recall_test.append(values_test)\n",
    "fig, ax = plt.subplots(figsize=(15,5))\n",
    "ax.set_xlabel(\"alpha\")\n",
    "ax.set_ylabel(\"Recall\")\n",
    "ax.set_title(\"Recall vs alpha for training and testing sets\")\n",
    "ax.plot(ccp_alphas, recall_train, marker='o', label=\"train\",\n",
    "        drawstyle=\"steps-post\")\n",
    "ax.plot(ccp_alphas, recall_test, marker='o', label=\"test\",\n",
    "        drawstyle=\"steps-post\")\n",
    "ax.legend()\n",
    "plt.show()"
   ]
  }
 ],
 "metadata": {
  "kernelspec": {
   "display_name": "Python 3 (ipykernel)",
   "language": "python",
   "name": "python3"
  },
  "language_info": {
   "codemirror_mode": {
    "name": "ipython",
    "version": 3
   },
   "file_extension": ".py",
   "mimetype": "text/x-python",
   "name": "python",
   "nbconvert_exporter": "python",
   "pygments_lexer": "ipython3",
   "version": "3.9.7"
  }
 },
 "nbformat": 4,
 "nbformat_minor": 5
}
