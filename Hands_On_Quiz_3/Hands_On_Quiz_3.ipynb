{
 "cells": [
  {
   "cell_type": "code",
   "execution_count": 17,
   "metadata": {
    "scrolled": false
   },
   "outputs": [
    {
     "name": "stdout",
     "output_type": "stream",
     "text": [
      "                                                         name  \\\n",
      "ID                                                              \n",
      "1000002330                    The Songs of Adelaide & Abullah   \n",
      "1000003930      Greeting From Earth: ZGAC Arts Capsule For ET   \n",
      "1000004038                                     Where is Hank?   \n",
      "1000007540  ToshiCapital Rekordz Needs Help to Complete Album   \n",
      "1000011046  Community Film Project: The Art of Neighborhoo...   \n",
      "...                                                       ...   \n",
      "999976400   ChknTruk Nationwide Charity Drive 2014 (Canceled)   \n",
      "999977640                                           The Tribe   \n",
      "999986353   Walls of Remedy- New lesbian Romantic Comedy f...   \n",
      "999987933                            BioDefense Education Kit   \n",
      "999988282                   Nou Renmen Ayiti!  We Love Haiti!   \n",
      "\n",
      "                subcategory      category    deadline            launched  \\\n",
      "ID                                                                          \n",
      "1000002330           Poetry    Publishing  09-10-2015 2015-11-08 12:12:00   \n",
      "1000003930   Narrative Film  Film & Video  01-11-2017 2017-02-09 04:43:00   \n",
      "1000004038   Narrative Film  Film & Video  26-02-2013 2013-12-01 00:20:00   \n",
      "1000007540            Music         Music  16-04-2012 2012-03-17 03:24:00   \n",
      "1000011046     Film & Video  Film & Video  29-08-2015 2015-04-07 08:35:00   \n",
      "...                     ...           ...         ...                 ...   \n",
      "999976400       Documentary  Film & Video  17-10-2014 2014-09-17 02:35:00   \n",
      "999977640    Narrative Film  Film & Video  19-07-2011 2011-06-22 03:35:00   \n",
      "999986353    Narrative Film  Film & Video  16-08-2010 2010-01-07 19:40:00   \n",
      "999987933        Technology    Technology  13-02-2016 2016-01-13 18:13:00   \n",
      "999988282   Performance Art           Art  16-08-2011 2011-07-19 09:07:00   \n",
      "\n",
      "            pledged     state  backers country  usd_pledged_real  \\\n",
      "ID                                                                 \n",
      "1000002330      0.0    failed        0      GB               0.0   \n",
      "1000003930   2421.0    failed       15      US            2421.0   \n",
      "1000004038    220.0    failed        3      US             220.0   \n",
      "1000007540      1.0    failed        1      US               1.0   \n",
      "1000011046   1283.0  canceled       14      US            1283.0   \n",
      "...             ...       ...      ...     ...               ...   \n",
      "999976400      25.0  canceled        1      US              25.0   \n",
      "999977640     155.0    failed        5      US             155.0   \n",
      "999986353      20.0    failed        1      US              20.0   \n",
      "999987933     200.0    failed        6      US             200.0   \n",
      "999988282     524.0    failed       17      US             524.0   \n",
      "\n",
      "            usd_goal_real  launched_month  \n",
      "ID                                         \n",
      "1000002330        1533.95              11  \n",
      "1000003930       30000.00               2  \n",
      "1000004038       45000.00              12  \n",
      "1000007540        5000.00               3  \n",
      "1000011046       19500.00               4  \n",
      "...                   ...             ...  \n",
      "999976400        50000.00               9  \n",
      "999977640         1500.00               6  \n",
      "999986353        15000.00               1  \n",
      "999987933        15000.00               1  \n",
      "999988282         2000.00               7  \n",
      "\n",
      "[378661 rows x 12 columns]\n"
     ]
    }
   ],
   "source": [
    "import pandas as pd\n",
    "import numpy as np\n",
    "\n",
    "import matplotlib.pyplot as plt\n",
    "import seaborn as sns\n",
    "\n",
    "from sklearn.preprocessing import StandardScaler, MinMaxScaler\n",
    "\n",
    "df = pd.read_csv(\"KickStarterProjects.csv\", index_col=0)\n",
    "df = df.drop([\"currency\", \"goal\"], axis = 1)\n",
    "count_succ = 0\n",
    "count_fail = 0\n",
    "df.head()\n",
    "df['launched'] = pd.to_datetime(df['launched'])\n",
    "\n",
    "df['launched_month'] = df.launched.apply(lambda x: x.month)\n",
    "print(df)"
   ]
  },
  {
   "cell_type": "code",
   "execution_count": 4,
   "metadata": {},
   "outputs": [
    {
     "name": "stdout",
     "output_type": "stream",
     "text": [
      "stuff\n"
     ]
    }
   ],
   "source": [
    "import pandas as pd\n",
    "import numpy as np\n",
    "\n",
    "import matplotlib.pyplot as plt\n",
    "import seaborn as sns\n",
    "\n",
    "from sklearn.preprocessing import StandardScaler, MinMaxScaler\n",
    "\n",
    "df = pd.read_csv(\"KickStarterProjects.csv\", index_col=0)\n",
    "df = df.drop([\"currency\", \"goal\"], axis = 1)\n",
    "count_succ = 0\n",
    "count_fail = 0\n",
    "\n"
   ]
  }
 ],
 "metadata": {
  "kernelspec": {
   "display_name": "Python 3",
   "language": "python",
   "name": "python3"
  },
  "language_info": {
   "codemirror_mode": {
    "name": "ipython",
    "version": 3
   },
   "file_extension": ".py",
   "mimetype": "text/x-python",
   "name": "python",
   "nbconvert_exporter": "python",
   "pygments_lexer": "ipython3",
   "version": "3.8.5"
  }
 },
 "nbformat": 4,
 "nbformat_minor": 4
}
