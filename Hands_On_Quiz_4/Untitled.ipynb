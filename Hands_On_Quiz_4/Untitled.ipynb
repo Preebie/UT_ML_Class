{
 "cells": [
  {
   "cell_type": "code",
   "execution_count": 35,
   "id": "d71131c4",
   "metadata": {
    "scrolled": true
   },
   "outputs": [
    {
     "name": "stdout",
     "output_type": "stream",
     "text": [
      "0\n",
      "     pelvic_incidence  pelvic tilt  lumbar_lordosis_angle  sacral_slope  \\\n",
      "0           63.027817    22.552586              39.609117     40.475232   \n",
      "1           39.056951    10.060991              25.015378     28.995960   \n",
      "2           68.832021    22.218482              50.092194     46.613539   \n",
      "3           69.297008    24.652878              44.311238     44.644130   \n",
      "4           49.712859     9.652075              28.317406     40.060784   \n",
      "..                ...          ...                    ...           ...   \n",
      "305         47.903565    13.616688              36.000000     34.286877   \n",
      "306         53.936748    20.721496              29.220534     33.215251   \n",
      "307         61.446597    22.694968              46.170347     38.751628   \n",
      "308         45.252792     8.693157              41.583126     36.559635   \n",
      "309         33.841641     5.073991              36.641233     28.767649   \n",
      "\n",
      "     pelvic_radius  degree_spondylolisthesis  pelvic_slope  Direct_tilt  \\\n",
      "0        98.672917                 -0.254400      0.744503      12.5661   \n",
      "1       114.405425                  4.564259      0.415186      12.8874   \n",
      "2       105.985135                 -3.530317      0.474889      26.8343   \n",
      "3       101.868495                 11.211523      0.369345      23.5603   \n",
      "4       108.168725                  7.918501      0.543360      35.4940   \n",
      "..             ...                       ...           ...          ...   \n",
      "305     117.449062                 -4.245395      0.129744       7.8433   \n",
      "306     114.365845                 -0.421010      0.047913      19.1986   \n",
      "307     125.670725                 -2.707880      0.081070      16.2059   \n",
      "308     118.545842                  0.214750      0.159251      14.7334   \n",
      "309     123.945244                 -0.199249      0.674504      19.3825   \n",
      "\n",
      "     thoracic_slope  cervical_tilt  sacrum_angle  scoliosis_slope    Status  \n",
      "0           14.5386       15.30468    -28.658501          43.5123  Abnormal  \n",
      "1           17.5323       16.78486    -25.530607          16.1102  Abnormal  \n",
      "2           17.4861       16.65897    -29.031888          19.2221  Abnormal  \n",
      "3           12.7074       11.42447    -30.470246          18.8329  Abnormal  \n",
      "4           15.9546        8.87237    -16.378376          24.9171  Abnormal  \n",
      "..              ...            ...           ...              ...       ...  \n",
      "305         14.7484        8.51707    -15.728927          11.5472    Normal  \n",
      "306         18.1972        7.08745      6.013843          43.8693    Normal  \n",
      "307         13.5565        8.89572      3.564463          18.4151    Normal  \n",
      "308         16.0928        9.75922      5.767308          33.7192    Normal  \n",
      "309         17.6963       13.72929      1.783007          40.6049    Normal  \n",
      "\n",
      "[310 rows x 13 columns]\n",
      "0.7096774193548387\n",
      "          0         1      2         3         4         5         6  \\\n",
      "0 -0.035133 -0.088027  0.038  0.052895  0.023428 -0.137437 -0.238731   \n",
      "\n",
      "          7         8         9        10        11  intercept  \n",
      "0 -0.005219  0.016468 -0.086543  0.002245  0.001083  -1.372026  \n",
      "0.8709677419354839\n"
     ]
    },
    {
     "data": {
      "image/png": "[encoded data removed]",
      "text/plain": [
       "<Figure size 504x360 with 2 Axes>"
      ]
     },
     "metadata": {
      "needs_background": "light"
     },
     "output_type": "display_data"
    }
   ],
   "source": [
    "import numpy as np # linear algebra\n",
    "import pandas as pd # data processing, CSV file I/O (e.g. pd.read_csv)\n",
    "import matplotlib.pyplot as plt       # matplotlib.pyplot plots data\n",
    "%matplotlib inline \n",
    "import seaborn as sns\n",
    "\n",
    "pd.set_option('mode.chained_assignment', None)\n",
    "\n",
    "df = pd.read_csv(\"backpain.csv\")\n",
    "\n",
    "\n",
    "\n",
    "print(m)\n",
    "print(df)\n",
    "\n",
    "df.isnull().values.any()\n",
    "\n",
    "from sklearn.model_selection import train_test_split\n",
    "\n",
    "X = df.drop('Status',axis=1)     # Predictor feature columns (8 X m)\n",
    "Y = df['Status']   # Predicted class (1=True, 0=False) (1 X m)\n",
    "\n",
    "x_train, x_test, y_train, y_test = train_test_split(X, Y, test_size=0.3, random_state=1)\n",
    "# 1 is just any random seed number\n",
    "\n",
    "x_train.head()\n",
    "count = 0\n",
    "count2 = 0\n",
    "for x in y_test:\n",
    "    if x == \"Abnormal\":\n",
    "        count+=1\n",
    "    else:\n",
    "        count2 +=1\n",
    "print(count/(count+count2))\n",
    "from sklearn import metrics\n",
    "\n",
    "from sklearn.linear_model import LogisticRegression\n",
    "\n",
    "# Fit the model on train\n",
    "model = LogisticRegression(solver=\"liblinear\", random_state=1)\n",
    "model.fit(x_train, y_train)\n",
    "#predict on test\n",
    "y_predict = model.predict(x_train)\n",
    "\n",
    "\n",
    "coef_df = pd.DataFrame(model.coef_)\n",
    "coef_df['intercept'] = model.intercept_\n",
    "print(coef_df)\n",
    "model_score = model.score(x_test, y_test)\n",
    "print(model_score)\n",
    "cm=metrics.confusion_matrix(y_train, y_predict, labels=[\"Abnormal\", \"Normal\"])\n",
    "\n",
    "df_cm = pd.DataFrame(cm, index = [i for i in [\"Actual 1\",\" Actual 0\"]],\n",
    "                  columns = [i for i in [\"Predict 1\",\"Predict 0\"]])\n",
    "plt.figure(figsize = (7,5))\n",
    "sns.heatmap(df_cm, annot=True,fmt='g')\n",
    "plt.show()"
   ]
  }
 ],
 "metadata": {
  "kernelspec": {
   "display_name": "Python 3 (ipykernel)",
   "language": "python",
   "name": "python3"
  },
  "language_info": {
   "codemirror_mode": {
    "name": "ipython",
    "version": 3
   },
   "file_extension": ".py",
   "mimetype": "text/x-python",
   "name": "python",
   "nbconvert_exporter": "python",
   "pygments_lexer": "ipython3",
   "version": "3.9.7"
  }
 },
 "nbformat": 4,
 "nbformat_minor": 5
}
