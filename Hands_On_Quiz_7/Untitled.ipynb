{
 "cells": [
  {
   "cell_type": "code",
   "execution_count": 45,
   "id": "c46e2ac2",
   "metadata": {},
   "outputs": [],
   "source": [
    "import pandas as pd\n",
    "import numpy as np\n",
    "from sklearn import metrics\n",
    "import matplotlib.pyplot as plt\n",
    "%matplotlib inline\n",
    "import warnings\n",
    "warnings.filterwarnings('ignore')\n",
    "import seaborn as sns\n",
    "from sklearn.model_selection import train_test_split\n",
    "from sklearn.model_selection import GridSearchCV\n",
    "from sklearn.metrics import *\n",
    "from sklearn.tree import DecisionTreeClassifier\n",
    "from sklearn.ensemble import AdaBoostClassifier, GradientBoostingClassifier\n",
    "from xgboost import XGBClassifier"
   ]
  },
  {
   "cell_type": "code",
   "execution_count": 55,
   "id": "66a368d4",
   "metadata": {},
   "outputs": [
    {
     "name": "stdout",
     "output_type": "stream",
     "text": [
      "   Age  Gender  Engineer  MBA  Work Exp  Salary  Distance  license  \\\n",
      "0   28    Male         1    0         5    14.4       5.1        0   \n",
      "1   24    Male         1    0         6    10.6       6.1        0   \n",
      "2   27  Female         1    0         9    15.5       6.1        0   \n",
      "3   25    Male         0    0         1     7.6       6.3        0   \n",
      "4   25  Female         0    0         3     9.6       6.7        0   \n",
      "\n",
      "   Opt_service  \n",
      "0            0  \n",
      "1            0  \n",
      "2            0  \n",
      "3            0  \n",
      "4            0  \n"
     ]
    }
   ],
   "source": [
    "creditData = pd.read_csv(\"Cars-dataset.csv\")\n",
    "print(creditData.head())\n",
    "X = creditData.drop(\"Opt_service\", axis = 1)\n",
    "y = creditData.pop(\"Opt_service\")\n",
    "X= pd.get_dummies(X, columns = ['Gender'],drop_first = True)\n"
   ]
  },
  {
   "cell_type": "code",
   "execution_count": 54,
   "id": "e276f5b7",
   "metadata": {},
   "outputs": [
    {
     "name": "stdout",
     "output_type": "stream",
     "text": [
      "(292, 8)\n",
      "(292,)\n",
      "(126, 8)\n",
      "(126,)\n"
     ]
    }
   ],
   "source": [
    "X_train, X_test, y_train, y_test = train_test_split(X, y, test_size=.3, random_state=1, stratify=y)\n",
    "print(X_train.shape)\n",
    "print(y_train.shape)\n",
    "print(X_test.shape)\n",
    "print(y_test.shape)"
   ]
  },
  {
   "cell_type": "code",
   "execution_count": 48,
   "id": "f94b503d",
   "metadata": {},
   "outputs": [],
   "source": [
    "def get_metrics_score(model,flag=True):\n",
    "    '''\n",
    "    model : classifier to predict values of X\n",
    "\n",
    "    '''\n",
    "    # defining an empty list to store train and test results\n",
    "    score_list=[] \n",
    "    \n",
    "    #Predicting on train and tests\n",
    "    pred_train = model.predict(X_train)\n",
    "    pred_test = model.predict(X_test)\n",
    "    \n",
    "    #Accuracy of the model\n",
    "    train_acc = model.score(X_train,y_train)\n",
    "    test_acc = model.score(X_test,y_test)\n",
    "    \n",
    "    #Recall of the model\n",
    "    train_recall = metrics.recall_score(y_train,pred_train)\n",
    "    test_recall = metrics.recall_score(y_test,pred_test)\n",
    "    \n",
    "    #Precision of the model\n",
    "    train_precision = metrics.precision_score(y_train,pred_train)\n",
    "    test_precision = metrics.precision_score(y_test,pred_test)\n",
    "    \n",
    "    score_list.extend((train_acc,test_acc,train_recall,test_recall,train_precision,test_precision))\n",
    "        \n",
    "    # If the flag is set to True then only the following print statements will be dispayed. The default value is set to True.\n",
    "    if flag == True: \n",
    "        print(\"Accuracy on training set : \",model.score(X_train,y_train))\n",
    "        print(\"Accuracy on test set : \",model.score(X_test,y_test))\n",
    "        print(\"Recall on training set : \",metrics.recall_score(y_train,pred_train))\n",
    "        print(\"Recall on test set : \",metrics.recall_score(y_test,pred_test))\n",
    "        print(\"Precision on training set : \",metrics.precision_score(y_train,pred_train))\n",
    "        print(\"Precision on test set : \",metrics.precision_score(y_test,pred_test))\n",
    "        print(\"F1\", (2*(metrics.precision_score(y_train,pred_train) * metrics.recall_score(y_train,pred_train))/(metrics.precision_score(y_train,pred_train) + metrics.recall_score(y_train,pred_train))))\n",
    "    \n",
    "    return score_list # returning the list with train and test scores\n",
    "## Function to create confusion matrix\n",
    "def make_confusion_matrix(model,y_actual,labels=[1, 0]):\n",
    "    '''\n",
    "    model : classifier to predict values of X\n",
    "    y_actual : ground truth  \n",
    "    \n",
    "    '''\n",
    "    y_predict = model.predict(X_test)\n",
    "    cm=metrics.confusion_matrix( y_actual, y_predict, labels=[0, 1])\n",
    "    df_cm = pd.DataFrame(cm, index = [i for i in [\"Actual - No\",\"Actual - Yes\"]],\n",
    "                  columns = [i for i in ['Predicted - No','Predicted - Yes']])\n",
    "    group_counts = [\"{0:0.0f}\".format(value) for value in\n",
    "                cm.flatten()]\n",
    "    group_percentages = [\"{0:.2%}\".format(value) for value in\n",
    "                         cm.flatten()/np.sum(cm)]\n",
    "    labels = [f\"{v1}\\n{v2}\" for v1, v2 in\n",
    "              zip(group_counts,group_percentages)]\n",
    "    labels = np.asarray(labels).reshape(2,2)\n",
    "    plt.figure(figsize = (10,7))\n",
    "    sns.heatmap(df_cm, annot=labels,fmt='')\n",
    "    plt.ylabel('True label')\n",
    "    plt.xlabel('Predicted label')"
   ]
  },
  {
   "cell_type": "code",
   "execution_count": 49,
   "id": "60ee877b",
   "metadata": {},
   "outputs": [
    {
     "name": "stdout",
     "output_type": "stream",
     "text": [
      "Accuracy on training set :  0.9178082191780822\n",
      "Accuracy on test set :  0.9126984126984127\n",
      "Recall on training set :  0.0\n",
      "Recall on test set :  0.0\n",
      "Precision on training set :  0.0\n",
      "Precision on test set :  0.0\n",
      "F1 nan\n",
      "Accuracy on training set :  1.0\n",
      "Accuracy on test set :  0.9523809523809523\n",
      "Recall on training set :  1.0\n",
      "Recall on test set :  0.8181818181818182\n",
      "Precision on training set :  1.0\n",
      "Precision on test set :  0.6923076923076923\n",
      "F1 1.0\n",
      "Accuracy on training set :  1.0\n",
      "Accuracy on test set :  0.9603174603174603\n",
      "Recall on training set :  1.0\n",
      "Recall on test set :  0.9090909090909091\n",
      "Precision on training set :  1.0\n",
      "Precision on test set :  0.7142857142857143\n",
      "F1 1.0\n"
     ]
    },
    {
     "data": {
      "image/png": "[encoded data removed]",
      "text/plain": [
       "<Figure size 720x504 with 2 Axes>"
      ]
     },
     "metadata": {
      "needs_background": "light"
     },
     "output_type": "display_data"
    },
    {
     "data": {
      "image/png": "[encoded data removed]",
      "text/plain": [
       "<Figure size 720x504 with 2 Axes>"
      ]
     },
     "metadata": {
      "needs_background": "light"
     },
     "output_type": "display_data"
    },
    {
     "data": {
      "image/png": "[encoded data removed]",
      "text/plain": [
       "<Figure size 720x504 with 2 Axes>"
      ]
     },
     "metadata": {
      "needs_background": "light"
     },
     "output_type": "display_data"
    }
   ],
   "source": [
    "gbc1 = GradientBoostingClassifier(n_estimators=50, learning_rate=.01, random_state=1)\n",
    "gbc1.fit(X_train,y_train)\n",
    "get_metrics_score(gbc1)\n",
    "make_confusion_matrix(gbc1,y_test,labels=[1, 0])\n",
    "\n",
    "gbc2 = GradientBoostingClassifier(n_estimators=100, learning_rate=.01, random_state=1)\n",
    "gbc2.fit(X_train,y_train)\n",
    "get_metrics_score(gbc2,flag=True)\n",
    "make_confusion_matrix(gbc2,y_test,labels=[1, 0])\n",
    "\n",
    "gbc3 = GradientBoostingClassifier(n_estimators=400, learning_rate=.01, random_state=1)\n",
    "gbc3.fit(X_train,y_train)\n",
    "get_metrics_score(gbc3,flag=True)\n",
    "make_confusion_matrix(gbc3,y_test,labels=[1, 0])\n"
   ]
  },
  {
   "cell_type": "code",
   "execution_count": 57,
   "id": "e6f18ab4",
   "metadata": {},
   "outputs": [
    {
     "name": "stdout",
     "output_type": "stream",
     "text": [
      "Accuracy on training set :  1.0\n",
      "Accuracy on test set :  0.9603174603174603\n",
      "Recall on training set :  1.0\n",
      "Recall on test set :  0.9090909090909091\n",
      "Precision on training set :  1.0\n",
      "Precision on test set :  0.7142857142857143\n",
      "F1 1.0\n"
     ]
    },
    {
     "data": {
      "text/plain": [
       "[1.0, 0.9603174603174603, 1.0, 0.9090909090909091, 1.0, 0.7142857142857143]"
      ]
     },
     "execution_count": 57,
     "metadata": {},
     "output_type": "execute_result"
    }
   ],
   "source": [
    "gbc = GradientBoostingClassifier(random_state=1)\n",
    "gbc.fit(X_train,y_train)\n",
    "get_metrics_score(gbc,flag=True)\n"
   ]
  },
  {
   "cell_type": "code",
   "execution_count": 58,
   "id": "2a5f3b77",
   "metadata": {},
   "outputs": [
    {
     "data": {
      "image/png": "[encoded data removed]",
      "text/plain": [
       "<Figure size 432x288 with 2 Axes>"
      ]
     },
     "metadata": {
      "needs_background": "light"
     },
     "output_type": "display_data"
    }
   ],
   "source": [
    "\n",
    "abc =  AdaBoostClassifier(random_state=1)\n",
    "\n",
    "abc.fit(X_train, y_train)\n",
    "\n",
    "abc_predict = abc.predict(X_train)\n",
    "\n",
    "sns.heatmap(confusion_matrix(y_train,abc_predict),annot=True,fmt='.1f')\n",
    "\n",
    "plt.xlabel('Predicted values')\n",
    "\n",
    "plt.ylabel('Actual values')\n",
    "\n",
    "plt.show()"
   ]
  },
  {
   "cell_type": "code",
   "execution_count": null,
   "id": "855df2e1",
   "metadata": {},
   "outputs": [],
   "source": []
  },
  {
   "cell_type": "code",
   "execution_count": null,
   "id": "2dc01331",
   "metadata": {},
   "outputs": [],
   "source": []
  }
 ],
 "metadata": {
  "kernelspec": {
   "display_name": "Python 3 (ipykernel)",
   "language": "python",
   "name": "python3"
  },
  "language_info": {
   "codemirror_mode": {
    "name": "ipython",
    "version": 3
   },
   "file_extension": ".py",
   "mimetype": "text/x-python",
   "name": "python",
   "nbconvert_exporter": "python",
   "pygments_lexer": "ipython3",
   "version": "3.9.7"
  }
 },
 "nbformat": 4,
 "nbformat_minor": 5
}
